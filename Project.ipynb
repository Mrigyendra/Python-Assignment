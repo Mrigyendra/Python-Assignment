{
 "cells": [
  {
   "cell_type": "markdown",
   "metadata": {},
   "source": [
    "# Coin Toss Game!"
   ]
  },
  {
   "cell_type": "code",
   "execution_count": 1,
   "metadata": {},
   "outputs": [
    {
     "name": "stdout",
     "output_type": "stream",
     "text": [
      "Welcome to the Coin Toss Game!\n",
      "Guess if the coin will land on 'heads' or 'tails'.\n",
      "The coin landed on: heads\n",
      "Congratulations! You guessed it right!\n",
      "The coin landed on: heads\n",
      "Congratulations! You guessed it right!\n",
      "The coin landed on: heads\n",
      "Better luck next time!\n",
      "Thanks for playing! Goodbye!\n"
     ]
    }
   ],
   "source": [
    "import random\n",
    "\n",
    "def coin_toss():\n",
    "    print(\"Welcome to the Coin Toss Game!\")\n",
    "    print(\"Guess if the coin will land on 'heads' or 'tails'.\")\n",
    "\n",
    "    while True:\n",
    "        user_guess = input(\"What's your guess? \").lower()\n",
    "\n",
    "        if user_guess == \"quit\":\n",
    "            print(\"Thanks for playing! Goodbye!\")\n",
    "            break\n",
    "\n",
    "        if user_guess not in [\"heads\", \"tails\"]:\n",
    "            print(\"Invalid input. Please type 'heads' or 'tails'.\")\n",
    "            continue\n",
    "\n",
    "        result = random.choice([\"heads\", \"tails\"])\n",
    "        print(f\"The coin landed on: {result}\")\n",
    "\n",
    "        if user_guess == result:\n",
    "            print(\"Congratulations! You guessed it right!\")\n",
    "        else:\n",
    "            print(\"Better luck next time!\")\n",
    "\n",
    "# Run the game\n",
    "coin_toss()\n"
   ]
  }
 ],
 "metadata": {
  "kernelspec": {
   "display_name": "Python 3",
   "language": "python",
   "name": "python3"
  },
  "language_info": {
   "codemirror_mode": {
    "name": "ipython",
    "version": 3
   },
   "file_extension": ".py",
   "mimetype": "text/x-python",
   "name": "python",
   "nbconvert_exporter": "python",
   "pygments_lexer": "ipython3",
   "version": "3.13.0"
  }
 },
 "nbformat": 4,
 "nbformat_minor": 2
}
