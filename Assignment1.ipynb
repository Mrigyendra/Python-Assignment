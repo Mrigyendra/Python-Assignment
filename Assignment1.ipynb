{
 "cells": [
  {
   "cell_type": "markdown",
   "metadata": {},
   "source": [
    "# Section 1: Conditional Statement"
   ]
  },
  {
   "cell_type": "markdown",
   "metadata": {},
   "source": [
    "### 1. Write a program that asks the user to enter a number and checks whether the number is even or odd."
   ]
  },
  {
   "cell_type": "code",
   "execution_count": 19,
   "metadata": {},
   "outputs": [
    {
     "name": "stdout",
     "output_type": "stream",
     "text": [
      "56 is a even number.\n"
     ]
    }
   ],
   "source": [
    "# Input number from the user\n",
    "num = int(input(\"Enter a number:\"))\n",
    "# Check if the number is even or odd\n",
    "if num % 2 == 0:\n",
    "    print(f\"{num} is a even number.\")\n",
    "else:\n",
    "    print(f\"{num} is a odd number.\")"
   ]
  },
  {
   "cell_type": "markdown",
   "metadata": {},
   "source": [
    "### 2. Write a program that asks the user to enter a number and checks whether it is positive, negative, or zero."
   ]
  },
  {
   "cell_type": "code",
   "execution_count": 22,
   "metadata": {},
   "outputs": [
    {
     "name": "stdout",
     "output_type": "stream",
     "text": [
      "The number is positive.\n"
     ]
    }
   ],
   "source": [
    "# Inupt number from user\n",
    "num = float(input(\"Enter a number:\"))\n",
    "# Check if the number is positive, negative or zero\n",
    "if num > 0:\n",
    "    print(\"The number is positive.\")  \n",
    "elif num < 0:\n",
    "    print(\"The number is negative.\")\n",
    "else:\n",
    "    print(\"The number is zero.\")    "
   ]
  },
  {
   "cell_type": "markdown",
   "metadata": {},
   "source": [
    "### 3. Write a program that asks the user to enter their age and checks if they are eligible to vote (18 years or older)."
   ]
  },
  {
   "cell_type": "code",
   "execution_count": 14,
   "metadata": {},
   "outputs": [
    {
     "name": "stdout",
     "output_type": "stream",
     "text": [
      "You are eligible to vote.\n"
     ]
    }
   ],
   "source": [
    "# input age from the user\n",
    "age = int(input(\"Enter your age\"))\n",
    "# Check the age if they are eligible to vote(18years or older)\n",
    "if age > 18:\n",
    "    print(\"You are eligible to vote.\")\n",
    "else:\n",
    "    print(\"You are not eligible to vote.\")\n"
   ]
  },
  {
   "cell_type": "markdown",
   "metadata": {},
   "source": [
    "### 4. Write a program that takes the lengths of three sides of a triangle as input and determines if the triangle is: \n",
    "- Equilateral (all sides are equal)\n",
    "- Isosceles (two sides are equal)\n",
    "- Scalene (all sides are different) "
   ]
  },
  {
   "cell_type": "code",
   "execution_count": 31,
   "metadata": {},
   "outputs": [
    {
     "name": "stdout",
     "output_type": "stream",
     "text": [
      "The triangle is iscosceles.\n"
     ]
    }
   ],
   "source": [
    "# Input the lengths from user\n",
    "len1 = float(input(\"Enter the length of first side\"))\n",
    "len2 = float(input(\"Enter the length of second side\"))\n",
    "len3 = float(input(\"Enter the length of third side\"))\n",
    "\n",
    "# Determine the type of triangle\n",
    "if len1 == len2 == len3:\n",
    "    print(\"The triangle is equilateral.\")\n",
    "elif len1 == len2 or len2 == len3 or len3 == len1:\n",
    "    print(\"The triangle is iscosceles.\")\n",
    "else:\n",
    "    print(\"The triangle is scalene.\")      "
   ]
  },
  {
   "cell_type": "markdown",
   "metadata": {},
   "source": [
    "### 5. Write a program that asks the user to enter a password and checks if it matches a predefined password (e.g., \"Python123\")."
   ]
  },
  {
   "cell_type": "code",
   "execution_count": 35,
   "metadata": {},
   "outputs": [
    {
     "name": "stdout",
     "output_type": "stream",
     "text": [
      "The password was matched.\n"
     ]
    }
   ],
   "source": [
    "predefined_password = \"mrigyendra123\"\n",
    "\n",
    "# Input password from user\n",
    "userpassword = input(\"Enter your password\")\n",
    "\n",
    "# Check if the password is correct\n",
    "if userpassword == predefined_password:\n",
    "    print(\"The password was matched.\")\n",
    "else:\n",
    "    print(\"The password was not matched.\")    "
   ]
  },
  {
   "cell_type": "markdown",
   "metadata": {},
   "source": [
    "# Section 2: For Loops"
   ]
  },
  {
   "cell_type": "markdown",
   "metadata": {},
   "source": [
    "### 6. Multiplication Table: Write a Python program to print the multiplication table of a given number using a for loop. \n",
    "### Example:\n",
    "- Input: 5\n",
    "- Output: 5, 10, 15, ..., 50"
   ]
  },
  {
   "cell_type": "code",
   "execution_count": 4,
   "metadata": {},
   "outputs": [
    {
     "name": "stdout",
     "output_type": "stream",
     "text": [
      "Multiplication table of 5\n",
      "5\n",
      "10\n",
      "15\n",
      "20\n",
      "25\n",
      "30\n",
      "35\n",
      "40\n",
      "45\n",
      "50\n"
     ]
    }
   ],
   "source": [
    "# Input number from user\n",
    "number = 5\n",
    "\n",
    "# Print multiplication table of the number\n",
    "print(f\"Multiplication table of {number}\")\n",
    "for i in range(1, 11):\n",
    "    result = number * i\n",
    "    print(f\"{result}\")"
   ]
  },
  {
   "cell_type": "markdown",
   "metadata": {},
   "source": [
    "### 7. Count Vowels: Write a program to count and display the number of vowels in a given string."
   ]
  },
  {
   "cell_type": "code",
   "execution_count": 7,
   "metadata": {},
   "outputs": [
    {
     "name": "stdout",
     "output_type": "stream",
     "text": [
      "The number of vowels in the mrigyendra is 3\n"
     ]
    }
   ],
   "source": [
    "# Input a string from user\n",
    "string = input(\"Enter a string\")\n",
    "\n",
    "# count the vowel number in the string\n",
    "vowels = \"aeiouAEIOU\"\n",
    "count = 0\n",
    "for char in string:\n",
    "    if char in vowels:\n",
    "        count += 1\n",
    "print(f\"The number of vowels in the {string} is {count}\")\n"
   ]
  },
  {
   "cell_type": "markdown",
   "metadata": {},
   "source": [
    "### 8. Sum of Even Numbers: Create a program to find the sum of all even numbers in a list using a for loop \n",
    "### Example:\n",
    "- Input: [2, 5, 8, 3]\n",
    "- Output: 10"
   ]
  },
  {
   "cell_type": "code",
   "execution_count": 20,
   "metadata": {},
   "outputs": [
    {
     "name": "stdout",
     "output_type": "stream",
     "text": [
      "The sum of even numbers in the list is 10\n"
     ]
    }
   ],
   "source": [
    "numbers = [2, 5, 8, 3]\n",
    "\n",
    "# counter for sum of even numbers\n",
    "evensum = 0\n",
    "\n",
    "# Check all even numbers in a list \n",
    "for i in numbers:\n",
    "    if i % 2 == 0: # Even number\n",
    "        evensum += i \n",
    "\n",
    "# print result\n",
    "print(f\"The sum of even numbers in the list is {evensum}\") "
   ]
  },
  {
   "cell_type": "markdown",
   "metadata": {},
   "source": [
    "### 9. Create a program to find the largest and smallest numbers in a list using a for loop.\n",
    "### Example:\n",
    "- Input = [10, 20, 5, 8], Output = Largest = 20, Smallest = 5"
   ]
  },
  {
   "cell_type": "code",
   "execution_count": 26,
   "metadata": {},
   "outputs": [
    {
     "name": "stdout",
     "output_type": "stream",
     "text": [
      "Largest numberin the list is 20\n",
      "Smallest number in the list is 5\n"
     ]
    }
   ],
   "source": [
    "numbers = [10, 20, 5, 8]\n",
    "\n",
    "largest = numbers[0]\n",
    "smallest = numbers[0]\n",
    "\n",
    "# Find the largest and smallest number in the list\n",
    "for i in numbers:\n",
    "    if i > largest:\n",
    "        largest = i\n",
    "    if i < smallest:\n",
    "        smallest = i\n",
    "\n",
    "\n",
    "# Print the result\n",
    "print(f\"Largest numberin the list is {largest}\")\n",
    "print(f\"Smallest number in the list is {smallest}\")"
   ]
  },
  {
   "cell_type": "markdown",
   "metadata": {},
   "source": [
    "### 10. Write a program to calculate the sum of digits of a given number using a for loop.\n",
    "Example: Input = 1234, Output = 10"
   ]
  },
  {
   "cell_type": "code",
   "execution_count": 8,
   "metadata": {},
   "outputs": [
    {
     "name": "stdout",
     "output_type": "stream",
     "text": [
      "The sum of the digits of 1234 is 10\n"
     ]
    }
   ],
   "source": [
    "# Take the input number from the user\n",
    "number = 1234\n",
    "\n",
    "# Initialize the sum variable to 0\n",
    "sum_of_digits = 0\n",
    "\n",
    "# Loop through each digit of the number\n",
    "for digit in str(number):\n",
    "    sum_of_digits += int(digit)  # Add the integer value of each digit to sum_of_digits\n",
    "\n",
    "# Print the result\n",
    "print(f\"The sum of the digits of {number} is {sum_of_digits}\")\n"
   ]
  },
  {
   "cell_type": "markdown",
   "metadata": {},
   "source": [
    "### 11. Write a program to reverse a given string using a for loop.\n",
    "Example: Input = \"Python\", Output = \"nohtyP\""
   ]
  },
  {
   "cell_type": "code",
   "execution_count": 10,
   "metadata": {},
   "outputs": [
    {
     "name": "stdout",
     "output_type": "stream",
     "text": [
      "Reversed string of 'Python' is 'nohtyP'\n"
     ]
    }
   ],
   "source": [
    "# Input a string from user\n",
    "string = \"Python\"\n",
    "\n",
    "# set an empty string to store the reversed string\n",
    "reversed_string = \"\"\n",
    "\n",
    "# use for loop to reverse the string\n",
    "for char in string:\n",
    "    reversed_string = char + reversed_string \n",
    "\n",
    "# Print the result\n",
    "print(f\"Reversed string of '{string}' is '{reversed_string}'\")    \n",
    "\n"
   ]
  },
  {
   "cell_type": "markdown",
   "metadata": {},
   "source": [
    "# Section 3: Functions"
   ]
  },
  {
   "cell_type": "markdown",
   "metadata": {},
   "source": [
    "### 1. Factorial Function: Write a function factorial(n) that returns the factorial of a number using a for loop."
   ]
  },
  {
   "cell_type": "code",
   "execution_count": 21,
   "metadata": {},
   "outputs": [
    {
     "name": "stdout",
     "output_type": "stream",
     "text": [
      "The factorial of 4 is 24.\n"
     ]
    }
   ],
   "source": [
    "def factorial():\n",
    "    num = int(input(\"Enter a number to calculate its factorial:\"))\n",
    "    if num < 0:\n",
    "        print(\"Factorial not defined for negative numbers.\")\n",
    "        return\n",
    "    result = 1\n",
    "    for i in range(1, num + 1):\n",
    "        result *= i\n",
    "    print(f\"The factorial of {num} is {result}.\")\n",
    "\n",
    "factorial()\n"
   ]
  },
  {
   "cell_type": "markdown",
   "metadata": {},
   "source": [
    "### 2. Prime Check Function: Create a function is_prime(n) to check whether a number is prime.\n",
    "Example:\n",
    "- Input: 7\n",
    "- Output: True"
   ]
  },
  {
   "cell_type": "code",
   "execution_count": 22,
   "metadata": {},
   "outputs": [
    {
     "name": "stdout",
     "output_type": "stream",
     "text": [
      "True\n"
     ]
    }
   ],
   "source": [
    "# input a number from user\n",
    "number = 7 \n",
    "\n",
    "# This function checks if a number is prime.\n",
    "def is_prime(n):\n",
    "    if n < 2:   # Less than 2 is not prime number\n",
    "        return False\n",
    "    \n",
    "    for i in range(2, n): #check divisors from 2 to n-1\n",
    "        if n % i == 0:\n",
    "            return False #if divisible, it's not prime number\n",
    "        \n",
    "        return True #if no divisors found, it's prime number\n",
    "    \n",
    "\n",
    "print(f\"{is_prime(number)}\")"
   ]
  },
  {
   "cell_type": "markdown",
   "metadata": {},
   "source": [
    "### 3.Find Maximum in List:Write a function find_max(lst) to find and return the maximum value in a list.\n",
    "Example:\n",
    "- Input: [1, 3, 7, 0]\n",
    "- Output: 7"
   ]
  },
  {
   "cell_type": "code",
   "execution_count": 23,
   "metadata": {},
   "outputs": [
    {
     "name": "stdout",
     "output_type": "stream",
     "text": [
      "The maximum value in the list is 7\n"
     ]
    }
   ],
   "source": [
    "# Function to find maximum value list        \n",
    "lst = [1,3,7,0]\n",
    "\n",
    "def find_max(lst):\n",
    "    max_value =lst[0]\n",
    "\n",
    "    #loop through list\n",
    "    for i in lst:\n",
    "        if i > max_value:\n",
    "            max_value = i\n",
    "\n",
    "    return max_value              \n",
    "\n",
    "print(f\"The maximum value in the list is {find_max(lst)}\")        \n"
   ]
  },
  {
   "cell_type": "markdown",
   "metadata": {},
   "source": [
    "### 4. Write a function palindrome_check(string) that returns True if the given string is a palindrome, otherwise False.\n",
    "Example: Input = \"radar\", Output = True"
   ]
  },
  {
   "cell_type": "code",
   "execution_count": 1,
   "metadata": {},
   "outputs": [
    {
     "name": "stdout",
     "output_type": "stream",
     "text": [
      "Is 'radar' a palindrome? True\n"
     ]
    }
   ],
   "source": [
    "# Enter a string from user\n",
    "string = \"radar\"\n",
    "\n",
    "# This function checks if a given string is a palindrome.\n",
    "def palindrome_check(string):\n",
    "    # Reverse the string and compare it with the original string\n",
    "    if string == string[::-1]:\n",
    "        return True  # The string is a palindrome\n",
    "    else:\n",
    "        return False  # The string is not a palindrome\n",
    "\n",
    "\n",
    "print(f\"Is '{string}' a palindrome? {palindrome_check(string)}\")\n"
   ]
  },
  {
   "cell_type": "markdown",
   "metadata": {},
   "source": [
    "### 5. Write a function sum_of_squares(n) that returns the sum of squares of the first n natural numbers."
   ]
  },
  {
   "cell_type": "code",
   "execution_count": 17,
   "metadata": {},
   "outputs": [
    {
     "name": "stdout",
     "output_type": "stream",
     "text": [
      "The sum of squares of first 3 natural numbers is: 14\n"
     ]
    }
   ],
   "source": [
    "# This function calculates the sum of squares of first n natural numbers\n",
    "\n",
    "number = int(input(\"Enter a number\"))\n",
    "\n",
    "def sum_of_squares(n):\n",
    "    sum_squares = 0\n",
    "\n",
    "    # using for loop \n",
    "    for i in range(1, n+1):\n",
    "        sum_squares += i ** 2     # add the square of each number\n",
    "\n",
    "    return sum_squares  # return the total sum\n",
    "\n",
    "print(f\"The sum of squares of first {number} natural numbers is: {sum_of_squares(number)}\")    "
   ]
  },
  {
   "cell_type": "markdown",
   "metadata": {},
   "source": [
    "### 6. Write a function sum_of_squares(n) that returns the sum of squares of the first n natural numbers.\n",
    "Example: Input = 3, Output = 1^2 + 2^2 + 3^2 = 14"
   ]
  },
  {
   "cell_type": "code",
   "execution_count": 16,
   "metadata": {},
   "outputs": [
    {
     "name": "stdout",
     "output_type": "stream",
     "text": [
      "The sum of squares of first 3 natural numbers is: 14\n"
     ]
    }
   ],
   "source": [
    "# This function calculates the sum of squares of first n natural numbers\n",
    "\n",
    "number = 3\n",
    "\n",
    "def sum_of_squares(n):\n",
    "    sum_squares = 0\n",
    "\n",
    "    # using for loop \n",
    "    for i in range(1, n+1):\n",
    "        sum_squares += i ** 2     # add the square of each number\n",
    "\n",
    "    return sum_squares  # return the total sum\n",
    "\n",
    "print(f\"The sum of squares of first {number} natural numbers is: {sum_of_squares(number)}\")"
   ]
  },
  {
   "cell_type": "markdown",
   "metadata": {},
   "source": [
    "# Section 4: Classes"
   ]
  },
  {
   "cell_type": "markdown",
   "metadata": {},
   "source": [
    "### 1. Rectangle Class:Define a class Rectangle with:\n",
    "- Two attributes: length and width.\n",
    "- A method area() to calculate the area.\n",
    "- A method perimeter() to calculate the perimeter."
   ]
  },
  {
   "cell_type": "code",
   "execution_count": 4,
   "metadata": {},
   "outputs": [
    {
     "name": "stdout",
     "output_type": "stream",
     "text": [
      "The area of the  rectangle is 130.20000000000002 \n",
      "The perimeter of the rectangle is 45.8\n"
     ]
    }
   ],
   "source": [
    "class Rectangle:\n",
    "    def __init__(self, length, width):\n",
    "        self.length = length\n",
    "        self.width = width\n",
    "\n",
    "    def area(self):\n",
    "        return self.length * self.width\n",
    "\n",
    "    def perimeter(self):\n",
    "        return 2 * (self.length + self.width)\n",
    "    \n",
    "# Input length and width from user\n",
    "length = float(input(\"Enter a length of a rectangle\"))\n",
    "width = float(input(\"Enter a width of a rectangle\"))\n",
    "\n",
    "# create an object of the class Rectangle\n",
    "rect = Rectangle(length, width)\n",
    "\n",
    "# Result of area and perimeter\n",
    "print(f\"The area of the  rectangle is {rect.area()} \")\n",
    "print(f\"The perimeter of the rectangle is {rect.perimeter()}\")\n",
    "\n",
    "    \n"
   ]
  },
  {
   "cell_type": "markdown",
   "metadata": {},
   "source": [
    "### 2. Student Class: Create a class Student with:\n",
    "- Attributes: name, roll_number, and marks.\n",
    "- A method display_details() to print the student's details.\n",
    "- A method is_passed() that returns True if marks ≥ 40, else\n",
    "False."
   ]
  },
  {
   "cell_type": "code",
   "execution_count": 11,
   "metadata": {},
   "outputs": [
    {
     "name": "stdout",
     "output_type": "stream",
     "text": [
      "Name: Mrigyendra\n",
      "Roll Number: 9\n",
      "Marks: 75.0\n",
      "True\n"
     ]
    }
   ],
   "source": [
    "class student:\n",
    "    def __init__(self, name, roll_number, marks):\n",
    "        self.name = name\n",
    "        self.roll_number = roll_number\n",
    "        self.marks = marks \n",
    "\n",
    "    def display_details(self):\n",
    "        print(f\"Name: {self.name}\")\n",
    "        print(f\"Roll Number: {self.roll_number}\")\n",
    "        print(f\"Marks: {self.marks}\")\n",
    "        \n",
    "        \n",
    "     # Check if student passed or failed\n",
    "    def is_passed(self):\n",
    "        if self.marks >= 40:\n",
    "            return True\n",
    "        else:\n",
    "            return False\n",
    "\n",
    "# Input details from user\n",
    "name = input(\"Enter student's name\")\n",
    "roll_number = input(\"Enter student's roll number\")        \n",
    "marks = float(input(\"Enter student's marks\"))\n",
    "\n",
    "# Create an object of the class student\n",
    "student1 = student(name, roll_number, marks)\n",
    "student1.display_details()\n",
    "\n",
    "if student1.is_passed():\n",
    "    print(\"True\")\n",
    "else:\n",
    "    print(\"False\")"
   ]
  },
  {
   "cell_type": "markdown",
   "metadata": {},
   "source": [
    "### 3. Define a class Circle with:\n",
    "- Attribute: radius.\n",
    "- Methods: area() to calculate the area, circumference() to\n",
    "calculate the circumference."
   ]
  },
  {
   "cell_type": "code",
   "execution_count": 12,
   "metadata": {},
   "outputs": [
    {
     "name": "stdout",
     "output_type": "stream",
     "text": [
      "The area of circle is 78.53981633974483\n",
      "The circumference of circle is 31.41592653589793\n"
     ]
    }
   ],
   "source": [
    "import math \n",
    "class Circle:\n",
    "    def __init__(self, radius):\n",
    "        self.radius = radius\n",
    "\n",
    "    def area(self):\n",
    "        return math.pi * self.radius **2 # math.pi = 3.14 \n",
    "\n",
    "    def circumference(self):\n",
    "        return 2 * math.pi * self.radius \n",
    "    \n",
    "# Input radius from user\n",
    "radius = float(input(\"Enter a radius of a circle\"))\n",
    "\n",
    "# Create an object of calss circle\n",
    "circle = Circle(radius)\n",
    "\n",
    "# print the area and circumference of circle\n",
    "print(f\"The area of circle is {circle.area()}\")\n",
    "print(f\"The circumference of circle is {circle.circumference()}\")\n",
    "\n",
    "      "
   ]
  },
  {
   "cell_type": "markdown",
   "metadata": {},
   "source": [
    "### 4. Create a class BankAccount with:\n",
    "● Attributes: account_number, account_holder, balance.\n",
    "● Methods:\n",
    "\n",
    "○ deposit(amount) to add money to the account.\n",
    "\n",
    "○ withdraw(amount) to subtract money (if sufficient\n",
    "balance is available).\n",
    "\n",
    "○ display_balance() to print the current balance."
   ]
  },
  {
   "cell_type": "code",
   "execution_count": 16,
   "metadata": {},
   "outputs": [
    {
     "name": "stdout",
     "output_type": "stream",
     "text": [
      "Deposited: 20000\n",
      "Withdrawn: 300\n",
      "Current balance: 19700\n",
      "Deposited: 300\n",
      "Withdrawn: 800\n",
      "Current balance: 19200\n"
     ]
    }
   ],
   "source": [
    "class BankAccount:\n",
    "    def __init__ (self, account_number, account_holder, balance=0):\n",
    "        self.account_number = account_number\n",
    "        self.account_holder = account_holder\n",
    "        self.balance = balance\n",
    "\n",
    "    def deposit(self, amount):\n",
    "        if amount > 0:\n",
    "            self.balance += amount\n",
    "            print(f\"Deposited: {amount}\")\n",
    "        else:\n",
    "            print(\"Deposited amount must be positive.\")\n",
    "\n",
    "    def withdraw(self, amount):\n",
    "        if amount> 0 and amount <= self.balance:\n",
    "            self.balance -= amount \n",
    "            print(f\"Withdrawn: {amount}\")\n",
    "        else:\n",
    "            print(\"Insufficient balance or invalid amount.\") \n",
    "\n",
    "    def display_balance(self):\n",
    "        print(f\"Current balance: {self.balance}\")\n",
    "\n",
    "account = BankAccount(account_number, account_holder)\n",
    "\n",
    "\n",
    "account.deposit(20000)\n",
    "account.withdraw(300)\n",
    "account.display_balance()\n",
    "\n",
    "account.deposit(300)\n",
    "account.withdraw(800)\n",
    "account.display_balance()"
   ]
  },
  {
   "cell_type": "markdown",
   "metadata": {},
   "source": [
    "\n",
    "\n",
    "### 5. A class Book with:\n",
    "`-` Attributes: title, author, price.\n",
    "\n",
    "`-` Methods:\n",
    "- apply_discount(discount) to reduce the price by a\n",
    "given percentage.\n",
    "- display_details() to print the book details."
   ]
  },
  {
   "cell_type": "code",
   "execution_count": 15,
   "metadata": {},
   "outputs": [
    {
     "name": "stdout",
     "output_type": "stream",
     "text": [
      "Title: Harry Potter\n",
      "Author: Mrigyendra Singh\n",
      "Price: Rs.20.0\n",
      "Title: Harry Potter\n",
      "Author: Mrigyendra Singh\n",
      "Price: Rs.16.0\n"
     ]
    }
   ],
   "source": [
    "class Book:\n",
    "    def __init__ (self, title, author,price):\n",
    "        self.title = title\n",
    "        self.author = author\n",
    "        self.price = price\n",
    "\n",
    "    def apply_discount(self, discount):\n",
    "        self.price -= self.price * (discount / 100)\n",
    "\n",
    "    def display_details(self):\n",
    "        print(f\"Title: {self.title}\")\n",
    "        print(f\"Author: {self.author}\")\n",
    "        print(f\"Price: Rs.{self.price}\")\n",
    "\n",
    "# create an object of the class Book\n",
    "book = Book(\"Harry Potter\", \"Mrigyendra Singh\", 20.00)\n",
    "book.display_details()\n",
    "book.apply_discount(20)\n",
    "book.display_details()"
   ]
  },
  {
   "cell_type": "markdown",
   "metadata": {},
   "source": [
    "### 6. Create a class Calculator with:\n",
    "- A method add(a, b) to add two numbers.\n",
    "- A method subtract(a, b) to subtract two numbers.\n",
    "- A method multiply(a, b) to multiply two numbers.\n",
    "- A method divide(a, b) to divide two numbers (handle division\n",
    "by zero gracefully)."
   ]
  },
  {
   "cell_type": "code",
   "execution_count": 18,
   "metadata": {},
   "outputs": [
    {
     "name": "stdout",
     "output_type": "stream",
     "text": [
      "Addition: 30\n",
      "Subbtraction: -20\n",
      "Multiplication: 125\n",
      "Division: 0.2\n"
     ]
    }
   ],
   "source": [
    "class Calculator:\n",
    "    def add(self, a, b):\n",
    "        return a + b\n",
    "    def subtract(self, a, b):\n",
    "        return(a - b)\n",
    "    def multiply(self, a, b):\n",
    "        return a * b\n",
    "    def divide(self, a, b):\n",
    "        if b != 0:\n",
    "            return a / b\n",
    "        else:\n",
    "            return \"Error: division by zero\"\n",
    "\n",
    "#creating an object for the class Calculator        \n",
    "calc = Calculator()\n",
    "\n",
    "print(\"Addition:\", calc.add(5, 25))\n",
    "print(\"Subbtraction:\", calc.subtract(5, 25))\n",
    "print(\"Multiplication:\", calc.multiply(5, 25))\n",
    "print(\"Division:\", calc.divide(5, 25))        "
   ]
  },
  {
   "cell_type": "markdown",
   "metadata": {},
   "source": [
    "### 7. Write a class Person with:\n",
    "- Attributes: name, age, gender.\n",
    "- Method introduce() to print a message like: \"Hello, my name\n",
    "is [name], I am [age] years old, and I am a [gender].\"\n",
    "- Create a subclass Employee that adds:\n",
    "\n",
    "■ Attribute: job_title.\n",
    "\n",
    "■ Override introduce() to include the job title."
   ]
  },
  {
   "cell_type": "code",
   "execution_count": 19,
   "metadata": {},
   "outputs": [
    {
     "name": "stdout",
     "output_type": "stream",
     "text": [
      "Hello, my name is Mrigyendra, I am 20 years old, and I am a male.\n",
      "Hello, my name is Ram, I am 25 years old, I am a male, and I work as UI/UX Designer.\n"
     ]
    }
   ],
   "source": [
    "class Person:\n",
    "    # constuctor\n",
    "    def __init__ (self, name, age, gender):\n",
    "        self.name = name\n",
    "        self.age = age\n",
    "        self.gender = gender\n",
    "\n",
    "    # Method to introduce the person\n",
    "    def introduce(self):\n",
    "        print(f\"Hello, my name is {self.name}, I am {self.age} years old, and I am a {self.gender}.\")\n",
    "\n",
    "\n",
    "# Create Employee class \n",
    "class Employee(Person):\n",
    "    def __init__ (self, name, age, gender, job_title):\n",
    "        super().__init__(name, age, gender)  # Call parent constructor\n",
    "        self.job_title = job_title\n",
    "\n",
    "    def introduce(self):\n",
    "        print(f\"Hello, my name is {self.name}, I am {self.age} years old, I am a {self.gender}, and I work as {self.job_title}.\")\n",
    "\n",
    "\n",
    "# Create an object of the class Person\n",
    "person = Person(\"Mrigyendra\", 20, \"male\")\n",
    "person.introduce()\n",
    "\n",
    "# Create an object of the class Employee\n",
    "employee = Employee(\"Ram\", 25, \"male\", \"UI/UX Designer\")\n",
    "employee.introduce()\n",
    "\n"
   ]
  },
  {
   "cell_type": "markdown",
   "metadata": {},
   "source": [
    "# Section 4: File Handling"
   ]
  },
  {
   "cell_type": "markdown",
   "metadata": {},
   "source": [
    "### 1. File Creation and Writing: Write a Python script to:\n",
    "- Create a file named data.txt.\n",
    "- Write the numbers from 1 to 10 (each on a new line) to the\n",
    "file.\n",
    "- Read the file and print its contents."
   ]
  },
  {
   "cell_type": "code",
   "execution_count": 22,
   "metadata": {},
   "outputs": [
    {
     "name": "stdout",
     "output_type": "stream",
     "text": [
      "1\n",
      "2\n",
      "3\n",
      "4\n",
      "5\n",
      "6\n",
      "7\n",
      "8\n",
      "9\n",
      "10\n",
      "\n"
     ]
    }
   ],
   "source": [
    "# create and write to the file \n",
    "with open('data.txt', 'w') as file:\n",
    "    for number in range(1, 11):\n",
    "        file.writelines(f\"{number}\\n\")\n",
    "\n",
    "# Read the file and print its contents\n",
    "with open('data.txt', 'r') as file:\n",
    "    print(file.read())\n"
   ]
  },
  {
   "cell_type": "markdown",
   "metadata": {},
   "source": [
    "### 2. Word Count in File: Write a program that reads a file named sample.txt, counts the number of words in it, and prints the result."
   ]
  },
  {
   "cell_type": "code",
   "execution_count": 5,
   "metadata": {},
   "outputs": [
    {
     "name": "stdout",
     "output_type": "stream",
     "text": [
      "The number of words in the file is 4\n"
     ]
    }
   ],
   "source": [
    "# Read the file and count the number of words\n",
    "with open('sample.txt', 'r') as file:\n",
    "    contents = file.read()\n",
    "    word_count = len(contents.split())\n",
    "\n",
    "# Print the result\n",
    "print(f\"The number of words in the file is {word_count}\")"
   ]
  },
  {
   "cell_type": "markdown",
   "metadata": {},
   "source": [
    "# Section 5: Error Handling"
   ]
  },
  {
   "cell_type": "markdown",
   "metadata": {},
   "source": [
    "### 1. Division with Error Handling: Write a program that takes two numbers as input and divides the first number by the second.\n",
    "- Use try and except to handle the division by zero error."
   ]
  },
  {
   "cell_type": "code",
   "execution_count": 18,
   "metadata": {},
   "outputs": [
    {
     "name": "stdout",
     "output_type": "stream",
     "text": [
      "Error: Division by zero is not allowed.\n"
     ]
    }
   ],
   "source": [
    "# Input two numbers from user\n",
    "num1 = float(input(\"Enter the first number\"))\n",
    "num2 = float(input(\"Enter the second number\"))\n",
    "\n",
    "# Use try to divide the first number by second number\n",
    "try:\n",
    "    result = num1 / num2\n",
    "    print(f\"The result of dividing {num1} by {num2} is {result}.\")\n",
    "except ZeroDivisionError:\n",
    "    print(\"Error: Division by zero is not allowed.\")    "
   ]
  },
  {
   "cell_type": "markdown",
   "metadata": {},
   "source": [
    "### 2. Integer Input Validation: Create a program that asks the user to input an integer.\n",
    "- Use try, except, and else to handle invalid input.\n",
    "Example:\n",
    "- Input: abc\n",
    "- Output: \"Invalid input, please enter an integer.\""
   ]
  },
  {
   "cell_type": "code",
   "execution_count": 22,
   "metadata": {},
   "outputs": [
    {
     "name": "stdout",
     "output_type": "stream",
     "text": [
      "Invalid input, please enter an integer.\n"
     ]
    }
   ],
   "source": [
    "# Ask the user to input an integer\n",
    "try:\n",
    "    user_input = int(input(\"Enter an integer\"))\n",
    "except ValueError:\n",
    "    print(\"Invalid input, please enter an integer.\")\n",
    "else:\n",
    "    print(f\"You entered the integer {user_input}.\")    "
   ]
  },
  {
   "cell_type": "markdown",
   "metadata": {},
   "source": [
    "### 3. File Not Found Error Handling: Write a script that:\n",
    "- Opens a file named unknown.txt.\n",
    "- Handles the FileNotFoundError gracefully and prints an\n",
    "appropriate message."
   ]
  },
  {
   "cell_type": "code",
   "execution_count": 7,
   "metadata": {},
   "outputs": [
    {
     "name": "stdout",
     "output_type": "stream",
     "text": [
      "Error: The file 'unknown.txt' was not found.1\n"
     ]
    }
   ],
   "source": [
    "try:\n",
    "    with open('unknown.txt', \"r\") as file:\n",
    "        contents = file.read()\n",
    "        print(contents)\n",
    "except FileNotFoundError:\n",
    "    print(\"Error: The file 'unknown.txt' was not found.1\")        \n"
   ]
  },
  {
   "cell_type": "markdown",
   "metadata": {},
   "source": [
    "# Create a Python class called Employee with attributes name, position and salary, and a method display()that prints all the details both methods: 1.Ask user 2. Parameter passing"
   ]
  },
  {
   "cell_type": "code",
   "execution_count": 4,
   "metadata": {},
   "outputs": [
    {
     "name": "stdout",
     "output_type": "stream",
     "text": [
      "Name: Mrigyendra Singh\n",
      "Position: Manager\n",
      "Salary: 50000.0\n",
      "Name: John Doe\n",
      "Position: Software Engineer\n",
      "Salary: 75000\n"
     ]
    }
   ],
   "source": [
    "class Employee:\n",
    "    def __init__(self, name, position, salary):\n",
    "        self.name = name\n",
    "        self.position = position\n",
    "        self.salary = salary\n",
    "\n",
    "    def display(self):\n",
    "        print(f\"Name: {self.name}\")\n",
    "        print(f\"Position: {self.position}\")\n",
    "        print(f\"Salary: {self.salary}\")\n",
    "\n",
    "# Method 1: Ask user for input\n",
    "name = input(\"Enter employee's name: \")\n",
    "position = input(\"Enter employee's position: \")\n",
    "salary = float(input(\"Enter employee's salary: \"))\n",
    "\n",
    "employee1 = Employee(name, position, salary)\n",
    "employee1.display()\n",
    "\n",
    "# Parameter passing\n",
    "employee2 = Employee(\"John Doe\", \"Software Engineer\", 75000)\n",
    "employee2.display()"
   ]
  },
  {
   "cell_type": "markdown",
   "metadata": {},
   "source": [
    "# "
   ]
  }
 ],
 "metadata": {
  "kernelspec": {
   "display_name": "Python 3",
   "language": "python",
   "name": "python3"
  },
  "language_info": {
   "codemirror_mode": {
    "name": "ipython",
    "version": 3
   },
   "file_extension": ".py",
   "mimetype": "text/x-python",
   "name": "python",
   "nbconvert_exporter": "python",
   "pygments_lexer": "ipython3",
   "version": "3.13.0"
  }
 },
 "nbformat": 4,
 "nbformat_minor": 2
}
